{
  "cells": [
    {
      "cell_type": "markdown",
      "source": [
        "# Linear Regression 1.1\n"
      ],
      "metadata": {
        "id": "0OmnASgUOibI"
      },
      "id": "0OmnASgUOibI"
    },
    {
      "cell_type": "markdown",
      "source": [
        "## Initilization\n"
      ],
      "metadata": {
        "id": "M6034hyLOo_D"
      },
      "id": "M6034hyLOo_D"
    },
    {
      "cell_type": "code",
      "source": [
        "%%capture\n",
        "\n",
        "!pip install google-ml-edu==0.1.3 \\\n",
        "  keras~=3.8.0 \\\n",
        "  matplotlib~=3.10.0 \\\n",
        "  numpy~=2.0.0 \\\n",
        "  pandas~=2.2.0 \\\n",
        "  tensorflow~=2.18.0\n",
        "\n",
        "print('\\n\\nAll requirements successfully installed.')"
      ],
      "metadata": {
        "id": "z9kuamLuOroy"
      },
      "id": "z9kuamLuOroy",
      "execution_count": 3,
      "outputs": []
    },
    {
      "cell_type": "code",
      "source": [
        "# data\n",
        "import numpy as np\n",
        "import pandas as pd\n",
        "\n",
        "# machine learning\n",
        "import keras\n",
        "import ml_edu.experiment\n",
        "import ml_edu.results\n",
        "\n",
        "# data visualization\n",
        "import plotly.express as px"
      ],
      "metadata": {
        "id": "xzUAe2SBOvsq"
      },
      "id": "xzUAe2SBOvsq",
      "execution_count": 4,
      "outputs": []
    }
  ],
  "metadata": {
    "colab": {
      "provenance": []
    },
    "language_info": {
      "name": "python"
    },
    "kernelspec": {
      "name": "python3",
      "display_name": "Python 3"
    }
  },
  "nbformat": 4,
  "nbformat_minor": 5
}